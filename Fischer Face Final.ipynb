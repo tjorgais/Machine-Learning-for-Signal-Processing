{
 "cells": [
  {
   "cell_type": "code",
   "execution_count": 1,
   "id": "62233b09",
   "metadata": {},
   "outputs": [],
   "source": [
    "import numpy as np\n",
    "import pandas as pd\n",
    "import matplotlib.pyplot as plt\n",
    "import os\n",
    "import cv2\n",
    "import imageio as iio\n",
    "from pathlib import Path"
   ]
  },
  {
   "cell_type": "code",
   "execution_count": 2,
   "id": "e6db537a",
   "metadata": {},
   "outputs": [],
   "source": [
    "#Functions to load data\n",
    "def get_data_from_folder(x):\n",
    "    images = []\n",
    "    label=[]\n",
    "    folder=os.getcwd()\n",
    "\n",
    "    path=os.path.join(folder,x)\n",
    "    images = list()\n",
    "    for file in Path(path).iterdir():\n",
    "        im = iio.imread(file)\n",
    "\n",
    "        if str(file).find('happy')!=-1:\n",
    "            label.append(1)\n",
    "        else:\n",
    "            label.append(0)\n",
    "\n",
    "        images.append(im)\n",
    "    return images, label\n"
   ]
  },
  {
   "cell_type": "code",
   "execution_count": 3,
   "id": "321fb091",
   "metadata": {},
   "outputs": [],
   "source": [
    "# functions to flatten the data from 101*101 to 1,10201\n",
    "def flatten_data(images):\n",
    "    data=[np.array(images[i]).flatten() for i in range(len(images))]\n",
    "    data=np.array(data)\n",
    "    return data"
   ]
  },
  {
   "cell_type": "code",
   "execution_count": 4,
   "id": "6b5c8dbe",
   "metadata": {},
   "outputs": [],
   "source": [
    "#Plot to check where the residual error is diminishing\n",
    "def residual_error(v):\n",
    "    plt.style.use('seaborn')\n",
    "    value_sum=[sum(v[i:-1]).real for i in range(len(v))]\n",
    "    plt.figure(figsize=(12,7))\n",
    "    k=[20,40,60,80]\n",
    "    for i in range(len(k)):\n",
    "        plt.subplot(2,2,i+1)\n",
    "        plt.plot(range(len(value_sum[:k[i]])) , value_sum[:k[i]], '*',linestyle='--', color='r')\n",
    "        plt.title(\"Residual_Error for k={}\".format(k[i]))\n",
    "    plt.show()\n",
    "    return"
   ]
  },
  {
   "cell_type": "code",
   "execution_count": 5,
   "id": "af809dec",
   "metadata": {},
   "outputs": [],
   "source": [
    "#computing covariance and eigenvalues\n",
    "def compute_cov(std_data,n,k):\n",
    "    s=np.dot(std_data.T,std_data)/n\n",
    "    final_eigen,v=compute_egn(s,k)\n",
    "    return final_eigen, v\n",
    "def compute_egn(s,k):\n",
    "    v,w=np.linalg.eigh(s)\n",
    "    #sorting the eigen values.\n",
    "    lex = v.argsort()[::-1]   \n",
    "    v = v[lex]\n",
    "    w = w[:,lex]\n",
    "    w=w.T\n",
    "    final_eigen=w[:k]\n",
    "    return final_eigen,v"
   ]
  },
  {
   "cell_type": "code",
   "execution_count": 6,
   "id": "e7edda3f",
   "metadata": {},
   "outputs": [],
   "source": [
    "#seperating the happy class and sad class ;)\n",
    "def seperate_class_data(data, label):\n",
    "    class_happy=data[[label[i]==1 for i in range(len(label))]]\n",
    "    class_sad=data[[label[i]==0 for i in range(len(label))]]\n",
    "    return class_happy, class_sad\n",
    "    \n",
    "    "
   ]
  },
  {
   "cell_type": "code",
   "execution_count": 7,
   "id": "bb476320",
   "metadata": {},
   "outputs": [],
   "source": [
    "#computing S_W and S_B\n",
    "def compute_scatter_matrix(class_happy,happy_mean,k):\n",
    "    s_w=np.zeros((k,k))\n",
    "    s_b=np.zeros((k,k))\n",
    "    happy_mean=class_happy.mean(0)\n",
    "    sad_mean=class_sad.mean(0)\n",
    "    s_w+=np.dot((class_happy-happy_mean).T,(class_happy-happy_mean))\n",
    "    s_w+=np.dot((class_sad-sad_mean).T,(class_sad-sad_mean))\n",
    "    n_h=class_happy.shape[0]\n",
    "    n_s=class_sad.shape[0]\n",
    "    s_b+=n_h*np.dot((happy_mean-total_mean),(happy_mean-total_mean).T)\n",
    "    s_b+=n_s*np.dot((sad_mean-total_mean),(sad_mean-total_mean).T)\n",
    "    return s_w,s_b"
   ]
  },
  {
   "cell_type": "code",
   "execution_count": 8,
   "id": "b24790e0",
   "metadata": {},
   "outputs": [],
   "source": [
    "# Plotting to check the seperation\n",
    "def Training_plot(final_feature,label):\n",
    "    final_happy,final_sad=seperate_class_data(final_feature, label)\n",
    "    n_h=final_happy.shape[0]\n",
    "    n_s=final_sad.shape[0]\n",
    "    plt.figure()\n",
    "    plt.scatter(range(n_h),final_happy,marker='*',color='#1f77b4')\n",
    "    plt.scatter(range(n_s),final_sad,marker='o',color='#ff7f0e')\n",
    "    plt.show()\n",
    "    return"
   ]
  },
  {
   "cell_type": "code",
   "execution_count": 19,
   "id": "359cc684",
   "metadata": {},
   "outputs": [],
   "source": [
    "#function to count accuracy\n",
    "def accuracy_count(feature,label,threshold):\n",
    "    \n",
    "    count=0\n",
    "    for i in range(len(feature)):\n",
    "        if feature[i]>-threshold and label[i]==1:\n",
    "            count+=1\n",
    "            \n",
    "        elif feature[i]<-threshold and label[i]==0:\n",
    "            count+=1\n",
    "        else:\n",
    "            continue\n",
    "            \n",
    "    return count"
   ]
  },
  {
   "cell_type": "code",
   "execution_count": 10,
   "id": "701e5bd8",
   "metadata": {},
   "outputs": [],
   "source": [
    "x='Data/emotion_classification/train'\n",
    "images, label=get_data_from_folder(x)\n",
    "n=len(images)\n",
    "data=flatten_data(images)\n",
    "mean_data=data.mean(0)\n",
    "std_data=data-mean_data\n",
    "\n",
    "k=19\n",
    "final_eigen, v=compute_cov(std_data,n,k)\n",
    "\n"
   ]
  },
  {
   "cell_type": "code",
   "execution_count": 11,
   "id": "bb83c27b",
   "metadata": {},
   "outputs": [
    {
     "data": {
      "image/png": "[encoded data removed]",
      "text/plain": [
       "<Figure size 864x504 with 4 Axes>"
      ]
     },
     "metadata": {},
     "output_type": "display_data"
    }
   ],
   "source": [
    "residual_error(v)\n",
    "pca=(np.dot(final_eigen,std_data.T).T).real\n",
    "total_mean=pca.mean(0)\n",
    "class_happy, class_sad=seperate_class_data(pca, label)\n",
    "s_w,s_b=compute_scatter_matrix(class_happy,class_sad,k)\n",
    "M=np.dot(np.linalg.inv(s_w),s_b)\n"
   ]
  },
  {
   "cell_type": "code",
   "execution_count": 36,
   "id": "750be3cd",
   "metadata": {},
   "outputs": [],
   "source": [
    "final_w , v_new =compute_egn(M,1)\n",
    "final_feature=(np.dot(final_w,pca.T).T).real\n"
   ]
  },
  {
   "cell_type": "code",
   "execution_count": 18,
   "id": "17f1e55d",
   "metadata": {},
   "outputs": [
    {
     "data": {
      "text/plain": [
       "array([[-656.35160563],\n",
       "       [-656.35160563],\n",
       "       [ 537.01495006],\n",
       "       [ 537.01495006],\n",
       "       [-656.35160563],\n",
       "       [ 537.01495006],\n",
       "       [ 537.01495006],\n",
       "       [-656.35160563],\n",
       "       [ 537.01495006],\n",
       "       [-656.35160563],\n",
       "       [ 537.01495006],\n",
       "       [-656.35160563],\n",
       "       [ 537.01495006],\n",
       "       [-656.35160563],\n",
       "       [ 537.01495006],\n",
       "       [ 537.01495006],\n",
       "       [-656.35160563],\n",
       "       [ 537.01495006],\n",
       "       [-656.35160563],\n",
       "       [ 537.01495006]])"
      ]
     },
     "execution_count": 18,
     "metadata": {},
     "output_type": "execute_result"
    }
   ],
   "source": [
    "final_feature"
   ]
  },
  {
   "cell_type": "code",
   "execution_count": 13,
   "id": "14058575",
   "metadata": {},
   "outputs": [
    {
     "data": {
      "text/plain": [
       "100.0"
      ]
     },
     "execution_count": 13,
     "metadata": {},
     "output_type": "execute_result"
    }
   ],
   "source": [
    "count=accuracy_count(final_feature,label)\n",
    "size=len(label)\n",
    "Train_accuracy=((size-count)/size)*100\n",
    "Train_accuracy"
   ]
  },
  {
   "cell_type": "code",
   "execution_count": 14,
   "id": "6e5d0283",
   "metadata": {},
   "outputs": [],
   "source": [
    "y='Data/emotion_classification/test'\n",
    "test_images, test_label=get_data_from_folder(y)\n",
    "test_data=flatten_data(test_images)\n",
    "test_data=test_data-mean_data\n",
    "test_pca=(np.dot(final_eigen,test_data.T).T).real\n",
    "final_test_feature=(np.dot(final_w,test_pca.T).T).real\n",
    "\n"
   ]
  },
  {
   "cell_type": "code",
   "execution_count": 39,
   "id": "f7fca004",
   "metadata": {},
   "outputs": [],
   "source": [
    "threshold=100\n",
    "#np.sum(final_feature)/n\n",
    "count=accuracy_count(final_test_feature,test_label,threshold)\n",
    "size=len(test_label)\n",
    "accuracy=((size-count)/size)*100\n",
    "\n"
   ]
  },
  {
   "cell_type": "code",
   "execution_count": 38,
   "id": "0c8ec856",
   "metadata": {},
   "outputs": [
    {
     "data": {
      "image/png": "[encoded data removed]",
      "text/plain": [
       "<Figure size 576x396 with 1 Axes>"
      ]
     },
     "metadata": {},
     "output_type": "display_data"
    },
    {
     "name": "stdout",
     "output_type": "stream",
     "text": [
      "The optimum k value is:  19\n",
      "The accuracy value is:  90.0\n",
      "The threshold value is -3.410605131648481e-14\n"
     ]
    }
   ],
   "source": [
    "Training_plot(final_test_feature, test_label)\n",
    "print(\"The optimum k value is: \", k)  \n",
    "print(\"The accuracy value is: \", accuracy)\n",
    "print(\"The threshold value is\", threshold)\n",
    "    \n",
    "            \n",
    "            "
   ]
  },
  {
   "cell_type": "code",
   "execution_count": 23,
   "id": "58085cf5",
   "metadata": {},
   "outputs": [
    {
     "data": {
      "text/plain": [
       "-3.410605131648481e-14"
      ]
     },
     "execution_count": 23,
     "metadata": {},
     "output_type": "execute_result"
    }
   ],
   "source": []
  },
  {
   "cell_type": "code",
   "execution_count": null,
   "id": "94fc01c7",
   "metadata": {},
   "outputs": [],
   "source": []
  }
 ],
 "metadata": {
  "kernelspec": {
   "display_name": "Python 3",
   "language": "python",
   "name": "python3"
  },
  "language_info": {
   "codemirror_mode": {
    "name": "ipython",
    "version": 3
   },
   "file_extension": ".py",
   "mimetype": "text/x-python",
   "name": "python",
   "nbconvert_exporter": "python",
   "pygments_lexer": "ipython3",
   "version": "3.8.8"
  }
 },
 "nbformat": 4,
 "nbformat_minor": 5
}
